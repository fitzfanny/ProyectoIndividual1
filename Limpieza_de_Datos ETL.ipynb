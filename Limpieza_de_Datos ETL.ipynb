{
 "cells": [
  {
   "cell_type": "code",
   "execution_count": 1,
   "metadata": {},
   "outputs": [],
   "source": [
    "import pandas as pd\n",
    "import numpy as np\n",
    "import ast"
   ]
  },
  {
   "cell_type": "code",
   "execution_count": 5,
   "metadata": {},
   "outputs": [
    {
     "name": "stderr",
     "output_type": "stream",
     "text": [
      "C:\\Users\\fanny\\AppData\\Local\\Temp\\ipykernel_1440\\2112098861.py:2: DtypeWarning: Columns (10) have mixed types. Specify dtype option on import or set low_memory=False.\n",
      "  peliculas = pd.read_csv(\"C:/Users/Fanny/Documents/Henry/Labs/movies_dataset.csv\")\n"
     ]
    }
   ],
   "source": [
    "#Se crea la variable \"peliculas\", se la transforma en un DataFrame de Pandas y se la carga con los CSV pedidos\n",
    "\n",
    "peliculas = pd.DataFrame\n",
    "peliculas = pd.read_csv(\"C:/Users/Fanny/Documents/Henry/Labs/movies_dataset.csv\")"
   ]
  },
  {
   "cell_type": "code",
   "execution_count": 9,
   "metadata": {},
   "outputs": [],
   "source": [
    "#Se crea la variable \"creditos\", se la transforma en un DataFrame de Pandas y se la carga con los CSV pedidos que se encuentran en los campos \"cast\" y \"crew\"\n",
    "\n",
    "creditos = pd.read_csv(\"C:/Users/Fanny/Documents/Henry/Labs/credits.csv\", usecols=['cast', 'crew'])"
   ]
  },
  {
   "cell_type": "code",
   "execution_count": null,
   "metadata": {},
   "outputs": [],
   "source": [
    "# Se agregan las columnas 'cast' y 'crew' del DataFrame \"creditos\" al DataFrame \"peliculas\" para unificar todos los datos necesarios\n",
    "\n",
    "peliculas['cast'] = creditos['cast']\n",
    "peliculas['crew'] = creditos['crew']\n"
   ]
  },
  {
   "cell_type": "code",
   "execution_count": null,
   "metadata": {},
   "outputs": [],
   "source": [
    "#Creo la función \"extraer_nombre_actor\" que va a dejar en el DataFrame solo los nombres de los actores\n",
    "\n",
    "def extraer_nombre_actor(cast):\n",
    "    if pd.isnull(cast):\n",
    "        return np.nan\n",
    "    else:\n",
    "        try:\n",
    "            actor_list = ast.literal_eval(cast)\n",
    "            actor_names = [actor['name'] for actor in actor_list]\n",
    "            return ', '.join(actor_names)  \n",
    "        except (ValueError, TypeError):\n",
    "            return np.nan"
   ]
  },
  {
   "cell_type": "code",
   "execution_count": null,
   "metadata": {},
   "outputs": [],
   "source": [
    "# Aplico la función \"extraer_nombre_actor\" a la columna 'cast'\n",
    "\n",
    "peliculas['actores'] = peliculas['cast'].apply(extraer_nombre_actor)"
   ]
  },
  {
   "cell_type": "code",
   "execution_count": null,
   "metadata": {},
   "outputs": [],
   "source": [
    "#Creo la función \"extraer_director\" que va a dejar en el DataFrame solo el nombre del director en la columna \"crew\"\n",
    "\n",
    "def extraer_director(crew):\n",
    "    if pd.isnull(crew):\n",
    "        return np.nan\n",
    "    else:\n",
    "        try:\n",
    "            crew_list = ast.literal_eval(crew)\n",
    "            for member in crew_list:\n",
    "                if member['job'] == 'Director':\n",
    "                    return member['name']\n",
    "            return np.nan\n",
    "        except (ValueError, TypeError):\n",
    "            return np.nan"
   ]
  },
  {
   "cell_type": "code",
   "execution_count": null,
   "metadata": {},
   "outputs": [],
   "source": [
    "# Aplico la función \"extraer_director\" a la columna 'crew' y creo la columna 'director'\n",
    "\n",
    "peliculas['director'] = peliculas['crew'].apply(extraer_director)"
   ]
  },
  {
   "cell_type": "code",
   "execution_count": null,
   "metadata": {},
   "outputs": [],
   "source": [
    "#Elimino la columna \"crew\"\n",
    "\n",
    "peliculas.drop('crew', axis=1, inplace=True)"
   ]
  },
  {
   "cell_type": "code",
   "execution_count": null,
   "metadata": {},
   "outputs": [],
   "source": [
    "#Creo la funcion \"extraer_nombre_franquicia\"  para desanidar la columna 'belongs_to_collection' y extraer el nombre de la franquicia a la que corresponde cada pelicula\n",
    "\n",
    "def extraer_nombre_franquicia(collection):\n",
    "    if pd.isnull(collection):\n",
    "        return np.nan\n",
    "    else:\n",
    "        try:\n",
    "            return ast.literal_eval(collection)['name']\n",
    "        except (ValueError, TypeError):\n",
    "            return np.nan\n"
   ]
  },
  {
   "cell_type": "code",
   "execution_count": null,
   "metadata": {},
   "outputs": [],
   "source": [
    "# Luego aplico la funcion a 'belongs_to_collection'\n",
    "\n",
    "peliculas['belongs_to_collection'] = peliculas['belongs_to_collection'].apply(extraer_nombre_franquicia)"
   ]
  },
  {
   "cell_type": "code",
   "execution_count": null,
   "metadata": {},
   "outputs": [],
   "source": [
    "# Creo la función \"extraer_lenguaje\" para desanidar la columna 'spoken_languages' y extraer el idioma de cada pelicula\n",
    "\n",
    "def extraer_lenguaje(languages):\n",
    "    if pd.isnull(languages):\n",
    "        return pd.NA\n",
    "    try:\n",
    "        languages_list = eval(languages)\n",
    "        language_names = [lang['name'] for lang in languages_list]\n",
    "        return \", \".join(language_names)\n",
    "    except (ValueError, TypeError):\n",
    "        return pd.NA"
   ]
  },
  {
   "cell_type": "code",
   "execution_count": null,
   "metadata": {},
   "outputs": [],
   "source": [
    "# Aplico la función para desanidar 'spoken_languages' y obtener el idioma\n",
    "\n",
    "peliculas['spoken_languages'] = peliculas['spoken_languages'].apply(extraer_lenguaje)"
   ]
  },
  {
   "cell_type": "code",
   "execution_count": null,
   "metadata": {},
   "outputs": [],
   "source": [
    "# Creo la función \"extraer_genero\" para desanidar la columna 'genres' y extraer el género de cada pelicula\n",
    "\n",
    "def extraer_genero(genres):\n",
    "    if pd.isnull(genres):\n",
    "        return pd.NA\n",
    "    try:\n",
    "        genres_list = eval(genres)\n",
    "        genre_names = [genre['name'] for genre in genres_list]\n",
    "        return \", \".join(genre_names)\n",
    "    except (ValueError, TypeError):\n",
    "        return pd.NA"
   ]
  },
  {
   "cell_type": "code",
   "execution_count": null,
   "metadata": {},
   "outputs": [],
   "source": [
    "# Aplico la función \"extraer_genero\" para desanidar 'genres' y obtener los generos de cada película\n",
    "\n",
    "peliculas['genres'] = peliculas['genres'].apply(extraer_genero)"
   ]
  },
  {
   "cell_type": "code",
   "execution_count": null,
   "metadata": {},
   "outputs": [],
   "source": [
    "#Creo la función \"extraer_productoras\" para desanidar la columna 'production_companies' y extraer los nombres de las compañías de producción\n",
    "\n",
    "def extraer_productoras(companies):\n",
    "    if pd.isnull(companies):\n",
    "        return pd.NA\n",
    "    try:\n",
    "        companies_list = eval(companies)\n",
    "        company_names = [company['name'] for company in companies_list]\n",
    "        return \", \".join(company_names)\n",
    "    except (ValueError, TypeError):\n",
    "        return pd.NA"
   ]
  },
  {
   "cell_type": "code",
   "execution_count": null,
   "metadata": {},
   "outputs": [],
   "source": [
    "# Aplico la función para desanidar 'production_companies' y obtener los nombres de las compañías productoras\n",
    "\n",
    "peliculas['production_companies'] = peliculas['production_companies'].apply(extraer_productoras)"
   ]
  },
  {
   "cell_type": "code",
   "execution_count": null,
   "metadata": {},
   "outputs": [],
   "source": [
    "# Creo la función \"extaer_pais\" para desanidar la columna 'production_countries' y extraer solamente los países de producción\n",
    "\n",
    "def extaer_pais(countries):\n",
    "    if pd.isnull(countries):\n",
    "        return pd.NA\n",
    "    try:\n",
    "        countries_list = eval(countries)\n",
    "        country_names = [country['name'] for country in countries_list]\n",
    "        return \", \".join(country_names)\n",
    "    except (ValueError, TypeError):\n",
    "        return pd.NA"
   ]
  },
  {
   "cell_type": "code",
   "execution_count": null,
   "metadata": {},
   "outputs": [],
   "source": [
    "# Aplico la función \"extaer_pais\" para desanidar 'production_countries' y obtener los nombres de los países de producción\n",
    "\n",
    "peliculas['production_countries'] = peliculas['production_countries'].apply(extaer_pais)"
   ]
  },
  {
   "cell_type": "code",
   "execution_count": null,
   "metadata": {},
   "outputs": [],
   "source": [
    "# Relleno los valores nulos en la columna \"budget\" con 0\n",
    "\n",
    "peliculas['budget'].fillna(0, inplace=True)"
   ]
  },
  {
   "cell_type": "code",
   "execution_count": null,
   "metadata": {},
   "outputs": [],
   "source": [
    "# Relleno los valores nulos en la columna \"revenue\" con 0\n",
    "\n",
    "peliculas['revenue'].fillna(0, inplace=True)"
   ]
  },
  {
   "cell_type": "code",
   "execution_count": null,
   "metadata": {},
   "outputs": [],
   "source": [
    "# Elimino los valores nulos del campo 'release_date'\n",
    "\n",
    "peliculas.dropna(subset=['release_date'], inplace=True)"
   ]
  },
  {
   "cell_type": "code",
   "execution_count": null,
   "metadata": {},
   "outputs": [],
   "source": [
    "# Convierto la columna 'release_date' a formato de fecha y manejo los valores no válidos\n",
    "\n",
    "peliculas['release_date'] = pd.to_datetime(peliculas['release_date'], errors='coerce')"
   ]
  },
  {
   "cell_type": "code",
   "execution_count": null,
   "metadata": {},
   "outputs": [],
   "source": [
    "# Elimino las filas que contienen valores NaT (no válidos)\n",
    "\n",
    "peliculas.dropna(subset=['release_date'], inplace=True)"
   ]
  },
  {
   "cell_type": "code",
   "execution_count": null,
   "metadata": {},
   "outputs": [],
   "source": [
    "# Doy formato final a las fechas 'AAAA-mm-dd'\n",
    "\n",
    "peliculas['release_date'] = peliculas['release_date'].dt.strftime('%Y-%m-%d')"
   ]
  },
  {
   "cell_type": "code",
   "execution_count": null,
   "metadata": {},
   "outputs": [],
   "source": [
    "# Creo la función para calcular el retorno de inversión\n",
    "\n",
    "def calculate_return(row):\n",
    "    revenue = pd.to_numeric(row['revenue'], errors='coerce')\n",
    "    budget = pd.to_numeric(row['budget'], errors='coerce')\n",
    "    if pd.notna(revenue) and pd.notna(budget) and budget != 0:\n",
    "        return revenue / budget\n",
    "    return 0"
   ]
  },
  {
   "cell_type": "code",
   "execution_count": null,
   "metadata": {},
   "outputs": [],
   "source": [
    "# Creo la nueva columna 'return' aplicando la función \"calculate_return\"\n",
    "\n",
    "peliculas['return'] = peliculas.apply(calculate_return, axis=1)"
   ]
  },
  {
   "cell_type": "code",
   "execution_count": null,
   "metadata": {},
   "outputs": [],
   "source": [
    "# Creo la variable \"columnas_descartadaas\" y la completo con las columnas a elimanr del dataframe\n",
    "columnas_descartadaas = ['video', 'imdb_id', 'adult', 'original_title', 'poster_path', 'homepage', 'id', 'status', 'tagline']\n",
    "\n",
    "# Elimino las columnas\n",
    "peliculas.drop(columns=columnas_descartadaas, inplace=True)"
   ]
  }
 ],
 "metadata": {
  "kernelspec": {
   "display_name": "Python 3",
   "language": "python",
   "name": "python3"
  },
  "language_info": {
   "codemirror_mode": {
    "name": "ipython",
    "version": 3
   },
   "file_extension": ".py",
   "mimetype": "text/x-python",
   "name": "python",
   "nbconvert_exporter": "python",
   "pygments_lexer": "ipython3",
   "version": "3.10.11"
  },
  "orig_nbformat": 4
 },
 "nbformat": 4,
 "nbformat_minor": 2
}
