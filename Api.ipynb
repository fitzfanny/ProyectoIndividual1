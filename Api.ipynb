{
 "cells": [
  {
   "cell_type": "code",
   "execution_count": 2,
   "metadata": {},
   "outputs": [],
   "source": [
    "import pandas as pd\n",
    "from sklearn.feature_extraction.text import TfidfVectorizer\n",
    "from sklearn.metrics.pairwise import linear_kernel\n",
    "from fuzzywuzzy import fuzz\n",
    "from typing import List\n",
    "from fastapi import FastAPI\n",
    "\n",
    "app = FastAPI()\n",
    "\n",
    "# Cargamos el dataset en un DataFrame\n",
    "peliculas = pd.read_csv(\"C:/Users/Fede/Documents/henry/Labs/Fanny/peliculas.csv\")\n",
    "\n",
    "# Resto del código ...\n",
    "\n",
    "# Eliminamos filas con valores faltantes en las columnas relevantes para el análisis\n",
    "peliculas.dropna(subset=['belongs_to_collection', 'genres', 'release_date'], inplace=True)\n",
    "peliculas['title'] = peliculas['title'].str.lower().str.strip()\n",
    "\n",
    "peliculas['combined_features'] = (\n",
    "    peliculas['belongs_to_collection'].astype(str) + ' ' +\n",
    "    peliculas['genres'].astype(str) + ' ' +\n",
    "    peliculas['release_date'].astype(str)\n",
    ")\n",
    "\n",
    "tfidf_vectorizer = TfidfVectorizer()\n",
    "tfidf_matrix = tfidf_vectorizer.fit_transform(peliculas['combined_features'])\n",
    "\n",
    "cosine_sim = linear_kernel(tfidf_matrix, tfidf_matrix)\n",
    "\n",
    "def get_recommendations(title: str) -> List[str]:\n",
    "    title = title.lower().strip()\n",
    "    match_scores = peliculas['title'].apply(lambda x: fuzz.partial_ratio(x.lower().strip(), title))\n",
    "    best_match_index = match_scores.idxmax()\n",
    "    index = best_match_index\n",
    "    sim_scores = list(enumerate(cosine_sim[index]))\n",
    "    sim_scores = sorted(sim_scores, key=lambda x: x[1], reverse=True)\n",
    "    top_indices = [i[0] for i in sim_scores[1:6]]\n",
    "    recommended_movies = peliculas['title'].iloc[top_indices].tolist()\n",
    "    return recommended_movies\n",
    "\n",
    "@app.get('/recommendation/{title}')\n",
    "def recommend(title: str):\n",
    "    recommendations = get_recommendations(title)\n",
    "    return {'recommended_movies': recommendations}\n",
    "\n"
   ]
  }
 ],
 "metadata": {
  "kernelspec": {
   "display_name": "Python 3",
   "language": "python",
   "name": "python3"
  },
  "language_info": {
   "codemirror_mode": {
    "name": "ipython",
    "version": 3
   },
   "file_extension": ".py",
   "mimetype": "text/x-python",
   "name": "python",
   "nbconvert_exporter": "python",
   "pygments_lexer": "ipython3",
   "version": "3.9.13"
  },
  "orig_nbformat": 4
 },
 "nbformat": 4,
 "nbformat_minor": 2
}
