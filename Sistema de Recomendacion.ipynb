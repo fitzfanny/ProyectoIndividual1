{
 "cells": [
  {
   "cell_type": "code",
   "execution_count": 3,
   "metadata": {},
   "outputs": [],
   "source": [
    "import pandas as pd\n",
    "import numpy as np\n",
    "from sklearn.feature_extraction.text import TfidfVectorizer\n",
    "from sklearn.metrics.pairwise import linear_kernel\n",
    "from fuzzywuzzy import fuzz\n"
   ]
  },
  {
   "cell_type": "code",
   "execution_count": 4,
   "metadata": {},
   "outputs": [],
   "source": [
    "peliculas = pd.read_csv(\"C:/Users/Fede/Documents/henry/Labs/Fanny/peliculas.csv\")"
   ]
  },
  {
   "cell_type": "code",
   "execution_count": 5,
   "metadata": {},
   "outputs": [],
   "source": [
    "# Eliminar filas con valores faltantes en las columnas relevantes para el análisis\n",
    "peliculas.dropna(subset=['genres', 'belongs_to_collection', 'original_language', 'budget'], inplace=True)"
   ]
  },
  {
   "cell_type": "code",
   "execution_count": 6,
   "metadata": {},
   "outputs": [],
   "source": [
    "# Limpiar y estandarizar el texto para facilitar la búsqueda\n",
    "peliculas['title'] = peliculas['title'].str.lower().str.strip()\n",
    "\n",
    "peliculas['combined_features'] = (\n",
    "    peliculas['genres'].astype(str) + ' ' +\n",
    "    peliculas['belongs_to_collection'].astype(str) + ' ' +\n",
    "    peliculas['original_language'].astype(str) + ' ' +\n",
    "    peliculas['budget'].astype(str)\n",
    ")"
   ]
  },
  {
   "cell_type": "code",
   "execution_count": 7,
   "metadata": {},
   "outputs": [],
   "source": [
    "# Crear la matriz de características TF-IDF\n",
    "tfidf_vectorizer = TfidfVectorizer()\n",
    "tfidf_matrix = tfidf_vectorizer.fit_transform(peliculas['combined_features'])"
   ]
  },
  {
   "cell_type": "code",
   "execution_count": 15,
   "metadata": {},
   "outputs": [],
   "source": [
    "# Calcular la similitud del coseno utilizando el kernel lineal\n",
    "cosine_sim = linear_kernel(tfidf_matrix, tfidf_matrix)\n",
    "\n",
    "def recomendacion(titulo):\n",
    "    # Convertir el título ingresado a minúsculas y eliminar espacios en blanco\n",
    "    titulo = titulo.lower().strip()\n",
    "\n",
    "    # Realizar búsqueda difusa para encontrar el título más similar en el DataFrame\n",
    "    match_scores = peliculas['title'].apply(lambda x: fuzz.partial_ratio(x.lower().strip(), titulo))\n",
    "    best_match_index = match_scores.idxmax()\n",
    "\n",
    "    # Obtener el índice de la película correspondiente al título más similar\n",
    "    index = best_match_index\n",
    "\n",
    "    # Calcular la similitud de la película con el resto de películas\n",
    "    sim_scores = list(enumerate(cosine_sim[index]))\n",
    "    sim_scores = sorted(sim_scores, key=lambda x: x[1], reverse=True)\n",
    "\n",
    "    # Obtener los índices de las 5 películas más similares (excluyendo la película consultada)\n",
    "    similar_movies_indices = [i[0] for i in sim_scores[1:6]]\n",
    "\n",
    "    # Obtener los nombres de las películas recomendadas\n",
    "    recommended_movies = peliculas['title'].iloc[similar_movies_indices].to_list()\n",
    "\n",
    "    return recommended_movies\n"
   ]
  },
  {
   "cell_type": "code",
   "execution_count": 17,
   "metadata": {},
   "outputs": [
    {
     "name": "stdout",
     "output_type": "stream",
     "text": [
      "Película consultada: Toy Story\n",
      "Películas recomendadas:\n",
      "1. toy story 3\n",
      "2. toy story 2\n",
      "3. a christmas story\n",
      "4. the spongebob squarepants movie\n",
      "5. hoodwinked too! hood vs. evil\n"
     ]
    }
   ],
   "source": [
    "titulo_consulta = \"Toy Story\"\n",
    "\n",
    "# Obtener las películas recomendadas utilizando la función recomendacion\n",
    "peliculas_recomendadas = recomendacion(titulo_consulta)\n",
    "\n",
    "# Imprimir las películas recomendadas\n",
    "print(\"Película consultada:\", titulo_consulta)\n",
    "print(\"Películas recomendadas:\")\n",
    "for idx, pelicula in enumerate(peliculas_recomendadas, start=1):\n",
    "    print(f\"{idx}. {pelicula}\")"
   ]
  },
  {
   "cell_type": "code",
   "execution_count": null,
   "metadata": {},
   "outputs": [],
   "source": []
  },
  {
   "cell_type": "code",
   "execution_count": null,
   "metadata": {},
   "outputs": [],
   "source": []
  }
 ],
 "metadata": {
  "kernelspec": {
   "display_name": "Python 3",
   "language": "python",
   "name": "python3"
  },
  "language_info": {
   "codemirror_mode": {
    "name": "ipython",
    "version": 3
   },
   "file_extension": ".py",
   "mimetype": "text/x-python",
   "name": "python",
   "nbconvert_exporter": "python",
   "pygments_lexer": "ipython3",
   "version": "3.9.13"
  },
  "orig_nbformat": 4
 },
 "nbformat": 4,
 "nbformat_minor": 2
}
